{
 "cells": [
  {
   "cell_type": "markdown",
   "metadata": {},
   "source": [
    "# Problema2\n",
    "\n",
    "\n",
    "Lea el archivo 'winemag-data-130k-v2.csv' y realice lo siguiente:\n",
    "\n",
    "- Explore el dataframe según lo visto en clase\n",
    "- Realice al menos  4 renombre de columna y 3 creación de nuevas columnas según criterio. Deberá crear las columnas que crea conveniente. \n",
    "    Ejemplo: Según el país etiquetelos según continente.\n",
    "\n",
    "- Genere 4 reportes por agrupamiento de datos. Deberá elegir que reportes realizar\n",
    "    - Ejemplo: Por contienente mostrar los vinos mejor puntuados\n",
    "    - Ejemplo2: Promedio de precio de vino y cantidad de reviews obtenidos según pais. Ordenado de mejor a peor \n",
    "\n",
    "\n",
    "- Al menos uno de estos datos agrupados deberán ser almacenados en excel o csv\n",
    "   \n",
    "   Puede revisar esta solución https://stackoverflow.com/questions/25789264/pandas-dataframegroupby-export-to-excel\n",
    "\n",
    "\n",
    "\n",
    "### Datos \n",
    "\n",
    "winemag-data-130k-v2.csv\n",
    "- https://github.com/gdelgador/ProgramacionPython202401/blob/main/Modulo5/src/winemag-data-130k-v2.csv\n",
    "\n",
    "País según continente:\n",
    "- https://gist.githubusercontent.com/kintero/7d1db891401f56256c79/raw/a61f6d0dda82c3f04d2e6e76c3870552ef6cf0c6/paises.csv\n",
    " \n",
    "\n",
    "\n",
    "\n",
    "\n"
   ]
  },
  {
   "cell_type": "code",
   "execution_count": null,
   "metadata": {},
   "outputs": [],
   "source": [
    "import pandas as pd\n",
    "\n",
    "df_wine = pd.read_csv(\"https://github.com/gdelgador/ProgramacionPython202401/raw/main/Modulo5/src/winemag-data-130k-v2.csv\")\n",
    "print(df_wine.head())\n",
    "print(df_wine.info())\n",
    "\n",
    "df_wine.rename(columns={'points': 'puntuacion', 'price': 'precio', 'country': 'pais', 'variety': 'variedad'}, inplace=True)\n",
    "\n",
    "df_wine['puntuacion_categoria'] = pd.cut(df_wine['puntuacion'], bins=[0, 85, 90, 95, 100], labels=['Regular', 'Bueno', 'Muy Bueno', 'Excelente'])\n",
    "df_wine['precio_rango'] = pd.cut(df_wine['precio'], bins=[0, 20, 50, 100, float('inf')], labels=['0-20', '21-50', '51-100', '100+'])\n",
    "df_wine['relacion_precio_puntuacion'] = df_wine['precio'] / df_wine['puntuacion']\n",
    "print(df_wine.head())\n",
    "\n",
    "reporte_1 = df_wine.groupby('pais')['puntuacion'].mean().sort_values(ascending=False)\n",
    "print(reporte_1)\n",
    "\n",
    "reporte_2 = df_wine['variedad'].value_counts()\n",
    "print(reporte_2)\n",
    "\n",
    "reporte_3 = df_wine.groupby('puntuacion_categoria').agg({'precio': 'mean', 'puntuacion': 'count'}).sort_values(by='puntuacion', ascending=False)\n",
    "print(reporte_3)\n",
    "\n",
    "reporte_1.to_excel(\"promedio_puntuacion_por_pais.xlsx\", header=True)\n",
    "\n"
   ]
  },
  {
   "cell_type": "code",
   "execution_count": null,
   "metadata": {},
   "outputs": [],
   "source": [
    "!pip install openpyxl\n"
   ]
  }
 ],
 "metadata": {
  "language_info": {
   "name": "python"
  }
 },
 "nbformat": 4,
 "nbformat_minor": 2
}
